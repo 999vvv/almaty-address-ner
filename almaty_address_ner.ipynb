{
 "cells": [
  {
   "cell_type": "markdown",
   "id": "4a68e048",
   "metadata": {},
   "source": [
    "# Almaty Address NER Project\n"
   ]
  },
  {
   "cell_type": "code",
   "execution_count": 1,
   "id": "0bb02b57",
   "metadata": {},
   "outputs": [],
   "source": [
    "import spacy\n",
    "from spacy.training.example import Example\n",
    "from spacy.scorer import Scorer\n",
    "from pathlib import Path\n",
    "import json\n",
    "import random\n",
    "import warnings\n",
    "warnings.filterwarnings(\"ignore\")"
   ]
  },
  {
   "cell_type": "markdown",
   "id": "635c2450",
   "metadata": {},
   "source": [
    "## Load and Prepare Labeled Data\n"
   ]
  },
  {
   "cell_type": "code",
   "execution_count": 2,
   "id": "3cf0c001",
   "metadata": {},
   "outputs": [
    {
     "name": "stdout",
     "output_type": "stream",
     "text": [
      "example:\n",
      "('Проспект Назарбаева, дом 12: сломаны лавочки во дворе, жители просят их заменить.', {'entities': [(9, 19, 'Street'), (21, 27, 'NUM')]})\n"
     ]
    }
   ],
   "source": [
    "data = \"street_data.json\" \n",
    "\n",
    "with open(data, \"r\", encoding=\"utf-8\") as f:\n",
    "    raw_data = json.load(f)\n",
    "\n",
    "def prepare_data(raw_data):\n",
    "    training_data = []\n",
    "    for item in raw_data:\n",
    "        text = item[\"data\"][\"Message\"]\n",
    "        entities = []\n",
    "        if \"annotations\" in item and item[\"annotations\"]:\n",
    "            for result in item[\"annotations\"][0][\"result\"]:\n",
    "                if result[\"type\"] == \"labels\":\n",
    "                    start = result[\"value\"][\"start\"]\n",
    "                    end = result[\"value\"][\"end\"]\n",
    "                    label = result[\"value\"][\"labels\"][0]\n",
    "                    entities.append((start, end, label))\n",
    "        training_data.append((text, {\"entities\": entities}))\n",
    "    return training_data\n",
    "\n",
    "TRAIN_DATA = prepare_data(raw_data)\n",
    "print(f\"example:\\n{TRAIN_DATA[2]}\")\n"
   ]
  },
  {
   "cell_type": "markdown",
   "id": "70c8a385",
   "metadata": {},
   "source": [
    "## Load spaCy Model"
   ]
  },
  {
   "cell_type": "code",
   "execution_count": 3,
   "id": "cf1e50e0",
   "metadata": {},
   "outputs": [],
   "source": [
    "nlp = spacy.load(\"ru_core_news_lg\")\n",
    "\n",
    "ner = nlp.get_pipe(\"ner\")\n",
    "\n",
    "labels = set(ent[2] for _, ann in TRAIN_DATA for ent in ann[\"entities\"])\n",
    "for label in labels:\n",
    "    ner.add_label(label)"
   ]
  },
  {
   "cell_type": "markdown",
   "id": "028094a5",
   "metadata": {},
   "source": [
    "## Train the NER Model"
   ]
  },
  {
   "cell_type": "code",
   "execution_count": 4,
   "id": "9d80c112",
   "metadata": {
    "scrolled": false
   },
   "outputs": [
    {
     "name": "stdout",
     "output_type": "stream",
     "text": [
      "epoch 1: losses: {'ner': 1340.3097267156768}\n",
      "epoch 2: losses: {'ner': 583.9912114208449}\n",
      "epoch 3: losses: {'ner': 487.0608499647712}\n",
      "epoch 4: losses: {'ner': 418.66397928905695}\n",
      "epoch 5: losses: {'ner': 363.0753002317284}\n",
      "epoch 6: losses: {'ner': 321.1443300927704}\n",
      "epoch 7: losses: {'ner': 343.3867963652365}\n",
      "epoch 8: losses: {'ner': 312.82076457388763}\n",
      "epoch 9: losses: {'ner': 285.1516973822855}\n",
      "epoch 10: losses: {'ner': 293.8045575847938}\n",
      "epoch 11: losses: {'ner': 274.6216731064031}\n",
      "epoch 12: losses: {'ner': 222.99310793635652}\n",
      "epoch 13: losses: {'ner': 256.7561048326961}\n",
      "epoch 14: losses: {'ner': 231.41241706260897}\n",
      "epoch 15: losses: {'ner': 230.44547644777458}\n",
      "epoch 16: losses: {'ner': 220.8024800546172}\n",
      "epoch 17: losses: {'ner': 199.83648870134746}\n",
      "epoch 18: losses: {'ner': 224.9781010879263}\n",
      "epoch 19: losses: {'ner': 197.0936584606426}\n",
      "epoch 20: losses: {'ner': 168.20751566865215}\n"
     ]
    }
   ],
   "source": [
    "n_iter = 20\n",
    "random.seed(42)\n",
    "\n",
    "optimizer = nlp.resume_training()\n",
    "for itn in range(n_iter):\n",
    "    random.shuffle(TRAIN_DATA)\n",
    "    losses = {}\n",
    "    for text, annotations in TRAIN_DATA:\n",
    "        doc = nlp.make_doc(text)\n",
    "        example = Example.from_dict(doc, annotations)\n",
    "        nlp.update([example], drop=0.2, losses=losses)\n",
    "    \n",
    "    filtered_losses = {k: v for k, v in losses.items() if v > 0.0}\n",
    "    print(f\"epoch {itn + 1}: losses: {filtered_losses}\")"
   ]
  },
  {
   "cell_type": "markdown",
   "id": "96a894af",
   "metadata": {},
   "source": [
    "## Inference: Extract Entities from Sample Messages"
   ]
  },
  {
   "cell_type": "code",
   "execution_count": 17,
   "id": "1f58206f",
   "metadata": {
    "scrolled": false
   },
   "outputs": [
    {
     "data": {
      "text/markdown": [
       "**Message:** По ул. Абая возле дома 28 не убирают мусор.  \n",
       "&nbsp;&nbsp;&nbsp;&nbsp;Абая → `Street`  \n",
       "&nbsp;&nbsp;&nbsp;&nbsp;возле дома 28 → `NUM`  \n"
      ],
      "text/plain": [
       "<IPython.core.display.Markdown object>"
      ]
     },
     "metadata": {},
     "output_type": "display_data"
    },
    {
     "data": {
      "text/markdown": [
       "**Message:** В парке Ганди не хватает урн.  \n",
       "&nbsp;&nbsp;&nbsp;&nbsp;В парке Ганди → `Park`  \n"
      ],
      "text/plain": [
       "<IPython.core.display.Markdown object>"
      ]
     },
     "metadata": {},
     "output_type": "display_data"
    },
    {
     "data": {
      "text/markdown": [
       "**Message:** Доброе утро. Пол лета не поливается озеленененный участок по пр. Аблай хана вдоль домов 37-39.  \n",
       "&nbsp;&nbsp;&nbsp;&nbsp;Аблай хана → `Street`  \n",
       "&nbsp;&nbsp;&nbsp;&nbsp;вдоль домов 37-39 → `NUM`  \n"
      ],
      "text/plain": [
       "<IPython.core.display.Markdown object>"
      ]
     },
     "metadata": {},
     "output_type": "display_data"
    },
    {
     "data": {
      "text/markdown": [
       "**Message:** Здравствуйте, на пересечении Толе би Варламова с самого утра горят фонари.  \n",
       "&nbsp;&nbsp;&nbsp;&nbsp;на пересечении → `Peresechenie`  \n",
       "&nbsp;&nbsp;&nbsp;&nbsp;Толе би → `Street`  \n",
       "&nbsp;&nbsp;&nbsp;&nbsp;Варламова → `Street`  \n"
      ],
      "text/plain": [
       "<IPython.core.display.Markdown object>"
      ]
     },
     "metadata": {},
     "output_type": "display_data"
    },
    {
     "data": {
      "text/markdown": [
       "**Message:** Ветки деревьев очень сильно отросли - улица Тургут Озала, 26  \n",
       "&nbsp;&nbsp;&nbsp;&nbsp;Тургут Озала → `Street`  \n",
       "&nbsp;&nbsp;&nbsp;&nbsp;26 → `NUM`  \n"
      ],
      "text/plain": [
       "<IPython.core.display.Markdown object>"
      ]
     },
     "metadata": {},
     "output_type": "display_data"
    },
    {
     "data": {
      "text/markdown": [
       "**Message:** Добрый вечер. Муратбаева Казыбек би отключения электричества продолжается.  \n",
       "&nbsp;&nbsp;&nbsp;&nbsp;Муратбаева → `Street`  \n",
       "&nbsp;&nbsp;&nbsp;&nbsp;Казыбек би → `Street`  \n"
      ],
      "text/plain": [
       "<IPython.core.display.Markdown object>"
      ]
     },
     "metadata": {},
     "output_type": "display_data"
    }
   ],
   "source": [
    "from IPython.display import Markdown, display\n",
    "\n",
    "texts = [\n",
    "    \"По ул. Абая возле дома 28 не убирают мусор.\",\n",
    "    \"В парке Ганди не хватает урн.\",\n",
    "    \"Доброе утро. Пол лета не поливается озеленененный участок по пр. Аблай хана вдоль домов 37-39.\",\n",
    "    \"Здравствуйте, на пересечении Толе би Варламова с самого утра горят фонари.\",\n",
    "    \"Ветки деревьев очень сильно отросли - улица Тургут Озала, 26\",\n",
    "    \"Добрый вечер. Муратбаева Казыбек би отключения электричества продолжается.\",\n",
    "]\n",
    "\n",
    "for text in texts:\n",
    "    doc = nlp(text)\n",
    "    md_text = f\"**Message:** {text}  \\n\"\n",
    "    for ent in doc.ents:\n",
    "        md_text += f\"&nbsp;&nbsp;&nbsp;&nbsp;{ent.text} → `{ent.label_}`  \\n\"\n",
    "    display(Markdown(md_text))\n"
   ]
  },
  {
   "cell_type": "code",
   "execution_count": null,
   "id": "22ea97c0",
   "metadata": {},
   "outputs": [],
   "source": []
  }
 ],
 "metadata": {
  "kernelspec": {
   "display_name": "Python 3 (ipykernel)",
   "language": "python",
   "name": "python3"
  },
  "language_info": {
   "codemirror_mode": {
    "name": "ipython",
    "version": 3
   },
   "file_extension": ".py",
   "mimetype": "text/x-python",
   "name": "python",
   "nbconvert_exporter": "python",
   "pygments_lexer": "ipython3",
   "version": "3.11.5"
  }
 },
 "nbformat": 4,
 "nbformat_minor": 5
}
